{
 "cells": [
  {
   "cell_type": "code",
   "execution_count": 1,
   "metadata": {},
   "outputs": [],
   "source": [
    "list1=['id', 'budget', 'original_language', 'popularity', 'runtime', 'revenue', 'collection_name', 'has_collection', 'num_genres', 'all_genres', 'genre_Drama', 'genre_Comedy', 'genre_Thriller', 'genre_Action', 'genre_Romance', 'genre_Crime', 'genre_Adventure', 'genre_Horror', 'genre_Science Fiction', 'genre_Family', 'genre_Fantasy', 'genre_Mystery', 'genre_Animation', 'genre_History', 'genre_Music', 'num_companies', 'production_company_Warner Bros.', 'production_company_Universal Pictures', 'production_company_Paramount Pictures', 'production_company_Twentieth Century Fox Film Corporation', 'production_company_Columbia Pictures', 'production_company_Metro-Goldwyn-Mayer (MGM)', 'production_company_New Line Cinema', 'production_company_Touchstone Pictures', 'production_company_Walt Disney Pictures', 'production_company_Columbia Pictures Corporation', 'production_company_TriStar Pictures', 'production_company_Relativity Media', 'production_company_Canal+', 'production_company_United Artists', 'production_company_Miramax Films', 'production_company_Village Roadshow Pictures', 'production_company_Regency Enterprises', 'production_company_BBC Films', 'production_company_Dune Entertainment', 'production_company_Working Title Films', 'production_company_Fox Searchlight Pictures', 'production_company_StudioCanal', 'production_company_Lionsgate', 'production_company_DreamWorks SKG', 'production_company_Fox 2000 Pictures', 'production_company_Summit Entertainment', 'production_company_Hollywood Pictures', 'production_company_Orion Pictures', 'production_company_Amblin Entertainment', 'production_company_Dimension Films', 'num_countries', 'production_country_United States of America', 'production_country_United Kingdom', 'production_country_France', 'production_country_Germany', 'production_country_Canada', 'production_country_India', 'production_country_Italy', 'production_country_Japan', 'production_country_Australia', 'production_country_Russia', 'production_country_Spain', 'production_country_China', 'production_country_Hong Kong', 'production_country_Ireland', 'production_country_Belgium', 'production_country_South Korea', 'production_country_Mexico', 'production_country_Sweden', 'production_country_New Zealand', 'production_country_Netherlands', 'production_country_Czech Republic', 'production_country_Denmark', 'production_country_Brazil', 'production_country_Luxembourg', 'production_country_South Africa', 'num_languages', 'num_Keywords', 'keyword_woman director', 'keyword_independent film', 'keyword_duringcreditsstinger', 'keyword_murder', 'keyword_based on novel', 'keyword_violence', 'keyword_sport', 'keyword_biography', 'keyword_aftercreditsstinger', 'keyword_dystopia', 'keyword_revenge', 'keyword_friendship', 'keyword_sex', 'keyword_suspense', 'keyword_sequel', 'keyword_love', 'keyword_police', 'keyword_teenager', 'keyword_nudity', 'keyword_female nudity', 'keyword_drug', 'keyword_prison', 'keyword_musical', 'keyword_high school', 'keyword_los angeles', 'keyword_new york', 'keyword_family', 'keyword_father son relationship', 'keyword_kidnapping', 'keyword_investigation', 'num_cast', 'cast_name_Samuel L. Jackson', 'cast_name_Robert De Niro', 'cast_name_Morgan Freeman', 'cast_name_J.K. Simmons', 'cast_name_Bruce Willis', 'cast_name_Liam Neeson', 'cast_name_Susan Sarandon', 'cast_name_Bruce McGill', 'cast_name_John Turturro', 'cast_name_Forest Whitaker', 'cast_name_Willem Dafoe', 'cast_name_Bill Murray', 'cast_name_Owen Wilson', 'cast_name_Nicolas Cage', 'cast_name_Sylvester Stallone', 'genders_0_cast', 'genders_1_cast', 'genders_2_cast', 'cast_character_Himself', 'cast_character_Herself', 'cast_character_Dancer', 'cast_character_Additional Voices (voice)', 'cast_character_Doctor', 'cast_character_Reporter', 'cast_character_Waitress', 'cast_character_Nurse', 'cast_character_Bartender', 'cast_character_Jack', 'cast_character_Debutante', 'cast_character_Security Guard', 'cast_character_Paul', 'cast_character_Frank', 'num_crew', 'crew_name_Avy Kaufman', 'crew_name_Robert Rodriguez', 'crew_name_Deborah Aquila', 'crew_name_James Newton Howard', 'crew_name_Mary Vernieu', 'crew_name_Steven Spielberg', 'crew_name_Luc Besson', 'crew_name_Jerry Goldsmith', 'crew_name_Francine Maisler', 'crew_name_Tricia Wood', 'crew_name_James Horner', 'crew_name_Kerry Barden', 'crew_name_Bob Weinstein', 'crew_name_Harvey Weinstein', 'crew_name_Janet Hirshenson', 'genders_0_crew', 'genders_1_crew', 'genders_2_crew', 'jobs_Producer', 'jobs_Executive Producer', 'jobs_Director', 'jobs_Screenplay', 'jobs_Editor', 'jobs_Casting', 'jobs_Director of Photography', 'jobs_Original Music Composer', 'jobs_Art Direction', 'jobs_Production Design', 'jobs_Costume Design', 'jobs_Writer', 'jobs_Set Decoration', 'jobs_Makeup Artist', 'jobs_Sound Re-Recording Mixer', 'departments_Production', 'departments_Sound', 'departments_Art', 'departments_Crew', 'departments_Writing', 'departments_Costume & Make-Up', 'departments_Camera', 'departments_Directing', 'departments_Editing', 'departments_Visual Effects', 'departments_Lighting', 'departments_Actors', 'log_budget', 'has_homepage', 'release_date_year', 'release_date_weekday', 'release_date_month', 'release_date_weekofyear', 'release_date_day', 'release_date_quarter', 'len_title', 'words_title', 'len_tagline', 'words_tagline', 'len_overview', 'words_overview', 'len_original_title', 'words_original_title']"
   ]
  },
  {
   "cell_type": "code",
   "execution_count": 2,
   "metadata": {},
   "outputs": [],
   "source": [
    "list2=['budget', 'id', 'original_language', 'popularity', 'revenue', 'runtime', 'vote_average', 'vote_count', 'movie_id', 'num_genres', 'all_genres', 'genre_Drama', 'genre_Thriller', 'genre_Action', 'genre_Comedy', 'genre_Adventure', 'genre_Romance', 'genre_Crime', 'genre_Science Fiction', 'genre_Fantasy', 'genre_Mystery', 'genre_Family', 'genre_Horror', 'genre_History', 'genre_War', 'genre_Music', 'num_companies', 'production_company_Warner Bros.', 'production_company_Universal Pictures', 'production_company_Twentieth Century Fox Film Corporation', 'production_company_Paramount Pictures', 'production_company_Columbia Pictures', 'production_company_Miramax Films', 'production_company_New Line Cinema', 'production_company_Columbia Pictures Corporation', 'production_company_United Artists', 'production_company_Touchstone Pictures', 'production_company_Amblin Entertainment', 'production_company_Canal+', 'production_company_DreamWorks SKG', 'production_company_Village Roadshow Pictures', 'production_company_Metro-Goldwyn-Mayer (MGM)', 'production_company_Working Title Films', 'production_company_Regency Enterprises', 'production_company_Ingenious Film Partners', 'production_company_Lions Gate Films', 'production_company_Silver Pictures', 'production_company_Eon Productions', 'production_company_Fox Searchlight Pictures', 'production_company_Walt Disney Pictures', 'production_company_Scott Rudin Productions', 'production_company_StudioCanal', 'production_company_PolyGram Filmed Entertainment', 'production_company_Marvel Enterprises', 'production_company_Orion Pictures', 'production_company_Dune Entertainment', 'production_company_Fox 2000 Pictures', 'num_countries', 'production_country_United States of America', 'production_country_United Kingdom', 'production_country_Germany', 'production_country_France', 'production_country_Italy', 'production_country_Canada', 'production_country_Japan', 'production_country_Spain', 'production_country_New Zealand', 'production_country_Hong Kong', 'production_country_Australia', 'production_country_China', 'production_country_Mexico', 'production_country_Ireland', 'production_country_Belgium', 'production_country_South Africa', 'production_country_Hungary', 'production_country_India', 'production_country_Iceland', 'production_country_Czech Republic', 'production_country_Morocco', 'production_country_Austria', 'production_country_Switzerland', 'production_country_Sweden', 'production_country_Netherlands', 'num_languages', 'num_Keywords', 'keyword_dying and death', 'keyword_murder', 'keyword_violence', 'keyword_based on novel', 'keyword_los angeles', 'keyword_independent film', 'keyword_dystopia', 'keyword_daughter', 'keyword_duringcreditsstinger', 'keyword_aftercreditsstinger', 'keyword_london england', 'keyword_friendship', 'keyword_police', 'keyword_woman director', 'keyword_sex', 'keyword_love', 'keyword_new york', 'keyword_corruption', \"keyword_love of one's life\", 'keyword_revenge', 'keyword_superhero', 'keyword_individual', 'keyword_prison', 'keyword_sequel', 'keyword_rape', 'keyword_shootout', 'keyword_biography', 'keyword_paris', 'keyword_single', 'keyword_suspense', 'num_cast', 'cast_name_Samuel L. Jackson', 'cast_name_Robert De Niro', 'cast_name_Bruce Willis', 'cast_name_Johnny Depp', 'cast_name_Willem Dafoe', 'cast_name_Tom Cruise', 'cast_name_Brad Pitt', 'cast_name_Morgan Freeman', 'cast_name_Matt Damon', 'cast_name_Gary Oldman', 'cast_name_Brendan Gleeson', 'cast_name_Ben Affleck', 'cast_name_Keanu Reeves', 'cast_name_George Clooney', 'cast_name_Liam Neeson', 'genders_0_cast', 'genders_1_cast', 'genders_2_cast', 'cast_character_Dancer', 'cast_character_Himself', 'cast_character_Ewok', 'cast_character_Additional Voices (voice)', 'cast_character_Courtroom Spectator (uncredited)', 'cast_character_Paris Dance Team', 'cast_character_Farmer', 'cast_character_Reporter', 'cast_character_Montmartre Dance Team', 'cast_character_Doctor', 'cast_character_Cop', 'cast_character_(uncredited)', 'cast_character_Ape', 'cast_character_Foot Soldier', 'num_crew', 'crew_name_Steven Spielberg', 'crew_name_John Williams', 'crew_name_Francis Ford Coppola', 'crew_name_Janet Hirshenson', 'crew_name_Robert Rodriguez', 'crew_name_Jane Jenkins', 'crew_name_Quentin Tarantino', 'crew_name_Steven Soderbergh', 'crew_name_Hans Zimmer', 'crew_name_George Lucas', 'crew_name_Danny Elfman', 'crew_name_Kathleen Kennedy', 'crew_name_Mali Finn', 'crew_name_Billy Hopkins', 'crew_name_Alan Silvestri', 'genders_0_crew', 'genders_1_crew', 'genders_2_crew', 'jobs_Producer', 'jobs_Screenplay', 'jobs_Casting', 'jobs_Editor', 'jobs_Executive Producer', 'jobs_Art Direction', 'jobs_Director', 'jobs_Director of Photography', 'jobs_Original Music Composer', 'jobs_Production Design', 'jobs_Costume Design', 'jobs_Set Decoration', 'jobs_Makeup Artist', 'jobs_Hairstylist', 'jobs_Stunts', 'departments_Production', 'departments_Crew', 'departments_Sound', 'departments_Art', 'departments_Costume & Make-Up', 'departments_Camera', 'departments_Writing', 'departments_Editing', 'departments_Directing', 'departments_Visual Effects', 'departments_Lighting', 'departments_Actors', 'log_budget', 'has_homepage', 'release_date_year', 'release_date_weekday', 'release_date_month', 'release_date_weekofyear', 'release_date_day', 'release_date_quarter', 'len_title', 'words_title', 'len_tagline', 'words_tagline', 'len_overview', 'words_overview', 'len_original_title', 'words_original_title']"
   ]
  },
  {
   "cell_type": "code",
   "execution_count": 3,
   "metadata": {},
   "outputs": [
    {
     "name": "stdout",
     "output_type": "stream",
     "text": [
      "vote_average\n",
      "vote_count\n",
      "movie_id\n",
      "genre_War\n",
      "production_company_Ingenious Film Partners\n",
      "production_company_Lions Gate Films\n",
      "production_company_Silver Pictures\n",
      "production_company_Eon Productions\n",
      "production_company_Scott Rudin Productions\n",
      "production_company_PolyGram Filmed Entertainment\n",
      "production_company_Marvel Enterprises\n",
      "production_country_Hungary\n",
      "production_country_Iceland\n",
      "production_country_Morocco\n",
      "production_country_Austria\n",
      "production_country_Switzerland\n",
      "keyword_dying and death\n",
      "keyword_daughter\n",
      "keyword_london england\n",
      "keyword_corruption\n",
      "keyword_love of one's life\n",
      "keyword_superhero\n",
      "keyword_individual\n",
      "keyword_rape\n",
      "keyword_shootout\n",
      "keyword_paris\n",
      "keyword_single\n",
      "cast_name_Johnny Depp\n",
      "cast_name_Tom Cruise\n",
      "cast_name_Brad Pitt\n",
      "cast_name_Matt Damon\n",
      "cast_name_Gary Oldman\n",
      "cast_name_Brendan Gleeson\n",
      "cast_name_Ben Affleck\n",
      "cast_name_Keanu Reeves\n",
      "cast_name_George Clooney\n",
      "cast_character_Ewok\n",
      "cast_character_Courtroom Spectator (uncredited)\n",
      "cast_character_Paris Dance Team\n",
      "cast_character_Farmer\n",
      "cast_character_Montmartre Dance Team\n",
      "cast_character_Cop\n",
      "cast_character_(uncredited)\n",
      "cast_character_Ape\n",
      "cast_character_Foot Soldier\n",
      "crew_name_John Williams\n",
      "crew_name_Francis Ford Coppola\n",
      "crew_name_Jane Jenkins\n",
      "crew_name_Quentin Tarantino\n",
      "crew_name_Steven Soderbergh\n",
      "crew_name_Hans Zimmer\n",
      "crew_name_George Lucas\n",
      "crew_name_Danny Elfman\n",
      "crew_name_Kathleen Kennedy\n",
      "crew_name_Mali Finn\n",
      "crew_name_Billy Hopkins\n",
      "crew_name_Alan Silvestri\n",
      "jobs_Hairstylist\n",
      "jobs_Stunts\n"
     ]
    }
   ],
   "source": [
    "for i in list2:\n",
    "    if i not in list1:\n",
    "        print(i)"
   ]
  }
 ],
 "metadata": {
  "kernelspec": {
   "display_name": "Python 3",
   "language": "python",
   "name": "python3"
  },
  "language_info": {
   "codemirror_mode": {
    "name": "ipython",
    "version": 3
   },
   "file_extension": ".py",
   "mimetype": "text/x-python",
   "name": "python",
   "nbconvert_exporter": "python",
   "pygments_lexer": "ipython3",
   "version": "3.7.4"
  }
 },
 "nbformat": 4,
 "nbformat_minor": 4
}
